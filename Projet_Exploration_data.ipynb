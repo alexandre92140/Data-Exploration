{
 "cells": [
  {
   "cell_type": "markdown",
   "id": "22ae0576",
   "metadata": {},
   "source": [
    "# SUJET : Credit Card Fraud Prediction"
   ]
  },
  {
   "cell_type": "markdown",
   "id": "07511779",
   "metadata": {},
   "source": [
    "### Récupération des données\n"
   ]
  },
  {
   "cell_type": "code",
   "execution_count": 57,
   "id": "aa48cd49",
   "metadata": {},
   "outputs": [
    {
     "name": "stdout",
     "output_type": "stream",
     "text": [
      "Requirement already satisfied: kaggle in c:\\users\\alexandre\\documents\\anacondav2\\lib\\site-packages (1.5.12)\n",
      "Requirement already satisfied: python-slugify in c:\\users\\alexandre\\documents\\anacondav2\\lib\\site-packages (from kaggle) (8.0.0)\n",
      "Requirement already satisfied: python-dateutil in c:\\users\\alexandre\\documents\\anacondav2\\lib\\site-packages (from kaggle) (2.8.1)\n",
      "Requirement already satisfied: requests in c:\\users\\alexandre\\documents\\anacondav2\\lib\\site-packages (from kaggle) (2.25.1)\n",
      "Requirement already satisfied: certifi in c:\\users\\alexandre\\documents\\anacondav2\\lib\\site-packages (from kaggle) (2020.12.5)\n",
      "Requirement already satisfied: urllib3 in c:\\users\\alexandre\\documents\\anacondav2\\lib\\site-packages (from kaggle) (1.26.4)\n",
      "Requirement already satisfied: six>=1.10 in c:\\users\\alexandre\\documents\\anacondav2\\lib\\site-packages (from kaggle) (1.15.0)\n",
      "Requirement already satisfied: tqdm in c:\\users\\alexandre\\documents\\anacondav2\\lib\\site-packages (from kaggle) (4.59.0)\n",
      "Requirement already satisfied: text-unidecode>=1.3 in c:\\users\\alexandre\\documents\\anacondav2\\lib\\site-packages (from python-slugify->kaggle) (1.3)\n",
      "Requirement already satisfied: idna<3,>=2.5 in c:\\users\\alexandre\\documents\\anacondav2\\lib\\site-packages (from requests->kaggle) (2.10)\n",
      "Requirement already satisfied: chardet<5,>=3.0.2 in c:\\users\\alexandre\\documents\\anacondav2\\lib\\site-packages (from requests->kaggle) (4.0.0)\n"
     ]
    }
   ],
   "source": [
    "!pip install kaggle # Installation du MODULE KAGGLE"
   ]
  },
  {
   "cell_type": "code",
   "execution_count": 58,
   "id": "6a548f04",
   "metadata": {},
   "outputs": [
    {
     "name": "stdout",
     "output_type": "stream",
     "text": [
      "Downloading credit-card-fraud.zip to C:\\Users\\Alexandre\n",
      "\n"
     ]
    },
    {
     "name": "stderr",
     "output_type": "stream",
     "text": [
      "\n",
      "  0%|          | 0.00/28.9M [00:00<?, ?B/s]\n",
      "  3%|3         | 1.00M/28.9M [00:01<00:33, 879kB/s]\n",
      "  7%|6         | 2.00M/28.9M [00:02<00:31, 886kB/s]\n",
      " 10%|#         | 3.00M/28.9M [00:03<00:30, 894kB/s]\n",
      " 14%|#3        | 4.00M/28.9M [00:04<00:29, 898kB/s]\n",
      " 17%|#7        | 5.00M/28.9M [00:05<00:27, 899kB/s]\n",
      " 21%|##        | 6.00M/28.9M [00:07<00:27, 884kB/s]\n",
      " 24%|##4       | 7.00M/28.9M [00:08<00:25, 887kB/s]\n",
      " 28%|##7       | 8.00M/28.9M [00:09<00:24, 888kB/s]\n",
      " 31%|###1      | 9.00M/28.9M [00:10<00:24, 867kB/s]\n",
      " 35%|###4      | 10.0M/28.9M [00:11<00:22, 875kB/s]\n",
      " 38%|###8      | 11.0M/28.9M [00:13<00:21, 880kB/s]\n",
      " 42%|####1     | 12.0M/28.9M [00:14<00:20, 883kB/s]\n",
      " 45%|####5     | 13.0M/28.9M [00:15<00:19, 858kB/s]\n",
      " 48%|####8     | 14.0M/28.9M [00:16<00:17, 872kB/s]\n",
      " 52%|#####1    | 15.0M/28.9M [00:17<00:16, 865kB/s]\n",
      " 55%|#####5    | 16.0M/28.9M [00:19<00:15, 868kB/s]\n",
      " 59%|#####8    | 17.0M/28.9M [00:20<00:14, 830kB/s]\n",
      " 62%|######2   | 18.0M/28.9M [00:21<00:13, 851kB/s]\n",
      " 66%|######5   | 19.0M/28.9M [00:22<00:12, 863kB/s]\n",
      " 69%|######9   | 20.0M/28.9M [00:24<00:10, 871kB/s]\n",
      " 73%|#######2  | 21.0M/28.9M [00:25<00:09, 854kB/s]\n",
      " 76%|#######6  | 22.0M/28.9M [00:26<00:08, 863kB/s]\n",
      " 80%|#######9  | 23.0M/28.9M [00:27<00:07, 869kB/s]\n",
      " 83%|########3 | 24.0M/28.9M [00:28<00:05, 883kB/s]\n",
      " 87%|########6 | 25.0M/28.9M [00:29<00:04, 886kB/s]\n",
      " 90%|######### | 26.0M/28.9M [00:31<00:03, 860kB/s]\n",
      " 93%|#########3| 27.0M/28.9M [00:32<00:02, 872kB/s]\n",
      " 97%|#########6| 28.0M/28.9M [00:33<00:01, 881kB/s]\n",
      "100%|##########| 28.9M/28.9M [00:34<00:00, 877kB/s]\n",
      "100%|##########| 28.9M/28.9M [00:34<00:00, 873kB/s]\n"
     ]
    }
   ],
   "source": [
    "#Voici la commande API permettant de télécharger depuis \"Kaggle\" notre data base\n",
    "!kaggle datasets download -d dhanushnarayananr/credit-card-fraud\n",
    "#La commande s'exécute en utilisant le symbole \"!\""
   ]
  },
  {
   "cell_type": "markdown",
   "id": "e5a267bc",
   "metadata": {},
   "source": [
    "### Setup"
   ]
  },
  {
   "cell_type": "code",
   "execution_count": 95,
   "id": "2d311128",
   "metadata": {},
   "outputs": [],
   "source": [
    "import pandas as pd\n",
    "import numpy as np\n",
    "import seaborn as sns\n",
    "import matplotlib.pyplot as plt\n",
    "from sklearn.model_selection import train_test_split"
   ]
  },
  {
   "cell_type": "code",
   "execution_count": 96,
   "id": "95246752",
   "metadata": {},
   "outputs": [],
   "source": [
    "df = pd.read_csv(\"credit_card_fraud.csv\") #importation du jeux de données"
   ]
  },
  {
   "cell_type": "markdown",
   "id": "a68b580b",
   "metadata": {},
   "source": [
    "### Exploration des données"
   ]
  },
  {
   "cell_type": "code",
   "execution_count": 97,
   "id": "ca0f99de",
   "metadata": {},
   "outputs": [
    {
     "data": {
      "text/html": [
       "<div>\n",
       "<style scoped>\n",
       "    .dataframe tbody tr th:only-of-type {\n",
       "        vertical-align: middle;\n",
       "    }\n",
       "\n",
       "    .dataframe tbody tr th {\n",
       "        vertical-align: top;\n",
       "    }\n",
       "\n",
       "    .dataframe thead th {\n",
       "        text-align: right;\n",
       "    }\n",
       "</style>\n",
       "<table border=\"1\" class=\"dataframe\">\n",
       "  <thead>\n",
       "    <tr style=\"text-align: right;\">\n",
       "      <th></th>\n",
       "      <th>distance_from_home</th>\n",
       "      <th>distance_from_last_transaction</th>\n",
       "      <th>ratio_to_median_purchase_price</th>\n",
       "      <th>repeat_retailer</th>\n",
       "      <th>used_chip</th>\n",
       "      <th>used_pin_number</th>\n",
       "      <th>online_order</th>\n",
       "      <th>fraud</th>\n",
       "    </tr>\n",
       "  </thead>\n",
       "  <tbody>\n",
       "    <tr>\n",
       "      <th>0</th>\n",
       "      <td>57.877857</td>\n",
       "      <td>0.311140</td>\n",
       "      <td>1.945940</td>\n",
       "      <td>1.0</td>\n",
       "      <td>1.0</td>\n",
       "      <td>0.0</td>\n",
       "      <td>0.0</td>\n",
       "      <td>0.0</td>\n",
       "    </tr>\n",
       "    <tr>\n",
       "      <th>1</th>\n",
       "      <td>10.829943</td>\n",
       "      <td>0.175592</td>\n",
       "      <td>1.294219</td>\n",
       "      <td>1.0</td>\n",
       "      <td>0.0</td>\n",
       "      <td>0.0</td>\n",
       "      <td>0.0</td>\n",
       "      <td>0.0</td>\n",
       "    </tr>\n",
       "    <tr>\n",
       "      <th>2</th>\n",
       "      <td>5.091079</td>\n",
       "      <td>0.805153</td>\n",
       "      <td>0.427715</td>\n",
       "      <td>1.0</td>\n",
       "      <td>0.0</td>\n",
       "      <td>0.0</td>\n",
       "      <td>1.0</td>\n",
       "      <td>0.0</td>\n",
       "    </tr>\n",
       "    <tr>\n",
       "      <th>3</th>\n",
       "      <td>2.247564</td>\n",
       "      <td>5.600044</td>\n",
       "      <td>0.362663</td>\n",
       "      <td>1.0</td>\n",
       "      <td>1.0</td>\n",
       "      <td>0.0</td>\n",
       "      <td>1.0</td>\n",
       "      <td>0.0</td>\n",
       "    </tr>\n",
       "    <tr>\n",
       "      <th>4</th>\n",
       "      <td>44.190936</td>\n",
       "      <td>0.566486</td>\n",
       "      <td>2.222767</td>\n",
       "      <td>1.0</td>\n",
       "      <td>1.0</td>\n",
       "      <td>0.0</td>\n",
       "      <td>1.0</td>\n",
       "      <td>0.0</td>\n",
       "    </tr>\n",
       "    <tr>\n",
       "      <th>5</th>\n",
       "      <td>5.586408</td>\n",
       "      <td>13.261073</td>\n",
       "      <td>0.064768</td>\n",
       "      <td>1.0</td>\n",
       "      <td>0.0</td>\n",
       "      <td>0.0</td>\n",
       "      <td>0.0</td>\n",
       "      <td>0.0</td>\n",
       "    </tr>\n",
       "    <tr>\n",
       "      <th>6</th>\n",
       "      <td>3.724019</td>\n",
       "      <td>0.956838</td>\n",
       "      <td>0.278465</td>\n",
       "      <td>1.0</td>\n",
       "      <td>0.0</td>\n",
       "      <td>0.0</td>\n",
       "      <td>1.0</td>\n",
       "      <td>0.0</td>\n",
       "    </tr>\n",
       "    <tr>\n",
       "      <th>7</th>\n",
       "      <td>4.848247</td>\n",
       "      <td>0.320735</td>\n",
       "      <td>1.273050</td>\n",
       "      <td>1.0</td>\n",
       "      <td>0.0</td>\n",
       "      <td>1.0</td>\n",
       "      <td>0.0</td>\n",
       "      <td>0.0</td>\n",
       "    </tr>\n",
       "    <tr>\n",
       "      <th>8</th>\n",
       "      <td>0.876632</td>\n",
       "      <td>2.503609</td>\n",
       "      <td>1.516999</td>\n",
       "      <td>0.0</td>\n",
       "      <td>0.0</td>\n",
       "      <td>0.0</td>\n",
       "      <td>0.0</td>\n",
       "      <td>0.0</td>\n",
       "    </tr>\n",
       "    <tr>\n",
       "      <th>9</th>\n",
       "      <td>8.839047</td>\n",
       "      <td>2.970512</td>\n",
       "      <td>2.361683</td>\n",
       "      <td>1.0</td>\n",
       "      <td>0.0</td>\n",
       "      <td>0.0</td>\n",
       "      <td>1.0</td>\n",
       "      <td>0.0</td>\n",
       "    </tr>\n",
       "    <tr>\n",
       "      <th>10</th>\n",
       "      <td>14.263530</td>\n",
       "      <td>0.158758</td>\n",
       "      <td>1.136102</td>\n",
       "      <td>1.0</td>\n",
       "      <td>1.0</td>\n",
       "      <td>0.0</td>\n",
       "      <td>1.0</td>\n",
       "      <td>0.0</td>\n",
       "    </tr>\n",
       "    <tr>\n",
       "      <th>11</th>\n",
       "      <td>13.592368</td>\n",
       "      <td>0.240540</td>\n",
       "      <td>1.370330</td>\n",
       "      <td>1.0</td>\n",
       "      <td>1.0</td>\n",
       "      <td>0.0</td>\n",
       "      <td>1.0</td>\n",
       "      <td>0.0</td>\n",
       "    </tr>\n",
       "  </tbody>\n",
       "</table>\n",
       "</div>"
      ],
      "text/plain": [
       "    distance_from_home  distance_from_last_transaction  \\\n",
       "0            57.877857                        0.311140   \n",
       "1            10.829943                        0.175592   \n",
       "2             5.091079                        0.805153   \n",
       "3             2.247564                        5.600044   \n",
       "4            44.190936                        0.566486   \n",
       "5             5.586408                       13.261073   \n",
       "6             3.724019                        0.956838   \n",
       "7             4.848247                        0.320735   \n",
       "8             0.876632                        2.503609   \n",
       "9             8.839047                        2.970512   \n",
       "10           14.263530                        0.158758   \n",
       "11           13.592368                        0.240540   \n",
       "\n",
       "    ratio_to_median_purchase_price  repeat_retailer  used_chip  \\\n",
       "0                         1.945940              1.0        1.0   \n",
       "1                         1.294219              1.0        0.0   \n",
       "2                         0.427715              1.0        0.0   \n",
       "3                         0.362663              1.0        1.0   \n",
       "4                         2.222767              1.0        1.0   \n",
       "5                         0.064768              1.0        0.0   \n",
       "6                         0.278465              1.0        0.0   \n",
       "7                         1.273050              1.0        0.0   \n",
       "8                         1.516999              0.0        0.0   \n",
       "9                         2.361683              1.0        0.0   \n",
       "10                        1.136102              1.0        1.0   \n",
       "11                        1.370330              1.0        1.0   \n",
       "\n",
       "    used_pin_number  online_order  fraud  \n",
       "0               0.0           0.0    0.0  \n",
       "1               0.0           0.0    0.0  \n",
       "2               0.0           1.0    0.0  \n",
       "3               0.0           1.0    0.0  \n",
       "4               0.0           1.0    0.0  \n",
       "5               0.0           0.0    0.0  \n",
       "6               0.0           1.0    0.0  \n",
       "7               1.0           0.0    0.0  \n",
       "8               0.0           0.0    0.0  \n",
       "9               0.0           1.0    0.0  \n",
       "10              0.0           1.0    0.0  \n",
       "11              0.0           1.0    0.0  "
      ]
     },
     "execution_count": 97,
     "metadata": {},
     "output_type": "execute_result"
    }
   ],
   "source": [
    "df.head(12) # 12 premières lignes du dataset"
   ]
  },
  {
   "cell_type": "code",
   "execution_count": 63,
   "id": "41b5c998",
   "metadata": {},
   "outputs": [
    {
     "data": {
      "text/plain": [
       "(1000000, 8)"
      ]
     },
     "execution_count": 63,
     "metadata": {},
     "output_type": "execute_result"
    }
   ],
   "source": [
    "df.shape #permet de connaître la structure de notre DataFrame\n",
    "# Notre base de données est constituée de 1 000 0000 d'observations et de 8 variables"
   ]
  },
  {
   "cell_type": "code",
   "execution_count": 64,
   "id": "ba64cc8c",
   "metadata": {},
   "outputs": [
    {
     "data": {
      "text/plain": [
       "distance_from_home                float64\n",
       "distance_from_last_transaction    float64\n",
       "ratio_to_median_purchase_price    float64\n",
       "repeat_retailer                   float64\n",
       "used_chip                         float64\n",
       "used_pin_number                   float64\n",
       "online_order                      float64\n",
       "fraud                             float64\n",
       "dtype: object"
      ]
     },
     "execution_count": 64,
     "metadata": {},
     "output_type": "execute_result"
    }
   ],
   "source": [
    "df.dtypes #permet de connaître le type de variables de notre DataFrame"
   ]
  },
  {
   "cell_type": "code",
   "execution_count": 65,
   "id": "7b9d3c61",
   "metadata": {},
   "outputs": [
    {
     "name": "stdout",
     "output_type": "stream",
     "text": [
      "Categorical variables:\n",
      "[]\n"
     ]
    }
   ],
   "source": [
    "#Vérification de la présence de valeurs catégoriques:\n",
    "cat = (df.dtypes == 'object')\n",
    "object_cols = list(cat[cat].index)\n",
    "\n",
    "print(\"Categorical variables:\")\n",
    "print(object_cols)\n",
    "\n",
    "#Pas besoin d'encoder les valeurs catégoriques en valeurs numériques"
   ]
  },
  {
   "cell_type": "code",
   "execution_count": 66,
   "id": "55a266d7",
   "metadata": {},
   "outputs": [
    {
     "data": {
      "text/plain": [
       "0"
      ]
     },
     "execution_count": 66,
     "metadata": {},
     "output_type": "execute_result"
    }
   ],
   "source": [
    "#Affichage des doublons\n",
    "df.duplicated().sum()"
   ]
  },
  {
   "cell_type": "code",
   "execution_count": 98,
   "id": "ef933d8b",
   "metadata": {},
   "outputs": [
    {
     "data": {
      "text/plain": [
       "<matplotlib.legend.Legend at 0x25bcd9fd850>"
      ]
     },
     "execution_count": 98,
     "metadata": {},
     "output_type": "execute_result"
    },
    {
     "data": {
      "image/png": "[encoded data removed]",
      "text/plain": [
       "<Figure size 576x720 with 1 Axes>"
      ]
     },
     "metadata": {},
     "output_type": "display_data"
    }
   ],
   "source": [
    "plt.subplots( figsize =(8, 10 ) ) #configuration de la taille du graphique\n",
    "plt.title(\"Type de transaction\")\n",
    "plt.pie(data=df,x=df[\"fraud\"].value_counts(),autopct='%1.1f%%')\n",
    "\n",
    "plt.legend(['Non Frauduleuse', 'Frauduleuse'])"
   ]
  },
  {
   "cell_type": "code",
   "execution_count": 114,
   "id": "ee5d4295",
   "metadata": {},
   "outputs": [
    {
     "data": {
      "text/html": [
       "<div>\n",
       "<style scoped>\n",
       "    .dataframe tbody tr th:only-of-type {\n",
       "        vertical-align: middle;\n",
       "    }\n",
       "\n",
       "    .dataframe tbody tr th {\n",
       "        vertical-align: top;\n",
       "    }\n",
       "\n",
       "    .dataframe thead th {\n",
       "        text-align: right;\n",
       "    }\n",
       "</style>\n",
       "<table border=\"1\" class=\"dataframe\">\n",
       "  <thead>\n",
       "    <tr style=\"text-align: right;\">\n",
       "      <th></th>\n",
       "      <th>count</th>\n",
       "      <th>mean</th>\n",
       "      <th>std</th>\n",
       "      <th>min</th>\n",
       "      <th>25%</th>\n",
       "      <th>50%</th>\n",
       "      <th>75%</th>\n",
       "      <th>max</th>\n",
       "    </tr>\n",
       "  </thead>\n",
       "  <tbody>\n",
       "    <tr>\n",
       "      <th>distance_from_home</th>\n",
       "      <td>1000000.0</td>\n",
       "      <td>26.628792</td>\n",
       "      <td>65.390784</td>\n",
       "      <td>0.004874</td>\n",
       "      <td>3.878008</td>\n",
       "      <td>9.967760</td>\n",
       "      <td>25.743985</td>\n",
       "      <td>10632.723672</td>\n",
       "    </tr>\n",
       "    <tr>\n",
       "      <th>distance_from_last_transaction</th>\n",
       "      <td>1000000.0</td>\n",
       "      <td>5.036519</td>\n",
       "      <td>25.843093</td>\n",
       "      <td>0.000118</td>\n",
       "      <td>0.296671</td>\n",
       "      <td>0.998650</td>\n",
       "      <td>3.355748</td>\n",
       "      <td>11851.104565</td>\n",
       "    </tr>\n",
       "    <tr>\n",
       "      <th>ratio_to_median_purchase_price</th>\n",
       "      <td>1000000.0</td>\n",
       "      <td>1.824182</td>\n",
       "      <td>2.799589</td>\n",
       "      <td>0.004399</td>\n",
       "      <td>0.475673</td>\n",
       "      <td>0.997717</td>\n",
       "      <td>2.096370</td>\n",
       "      <td>267.802942</td>\n",
       "    </tr>\n",
       "    <tr>\n",
       "      <th>repeat_retailer</th>\n",
       "      <td>1000000.0</td>\n",
       "      <td>0.881536</td>\n",
       "      <td>0.323157</td>\n",
       "      <td>0.000000</td>\n",
       "      <td>1.000000</td>\n",
       "      <td>1.000000</td>\n",
       "      <td>1.000000</td>\n",
       "      <td>1.000000</td>\n",
       "    </tr>\n",
       "    <tr>\n",
       "      <th>used_chip</th>\n",
       "      <td>1000000.0</td>\n",
       "      <td>0.350399</td>\n",
       "      <td>0.477095</td>\n",
       "      <td>0.000000</td>\n",
       "      <td>0.000000</td>\n",
       "      <td>0.000000</td>\n",
       "      <td>1.000000</td>\n",
       "      <td>1.000000</td>\n",
       "    </tr>\n",
       "    <tr>\n",
       "      <th>used_pin_number</th>\n",
       "      <td>1000000.0</td>\n",
       "      <td>0.100608</td>\n",
       "      <td>0.300809</td>\n",
       "      <td>0.000000</td>\n",
       "      <td>0.000000</td>\n",
       "      <td>0.000000</td>\n",
       "      <td>0.000000</td>\n",
       "      <td>1.000000</td>\n",
       "    </tr>\n",
       "    <tr>\n",
       "      <th>online_order</th>\n",
       "      <td>1000000.0</td>\n",
       "      <td>0.650552</td>\n",
       "      <td>0.476796</td>\n",
       "      <td>0.000000</td>\n",
       "      <td>0.000000</td>\n",
       "      <td>1.000000</td>\n",
       "      <td>1.000000</td>\n",
       "      <td>1.000000</td>\n",
       "    </tr>\n",
       "    <tr>\n",
       "      <th>fraud</th>\n",
       "      <td>1000000.0</td>\n",
       "      <td>0.087403</td>\n",
       "      <td>0.282425</td>\n",
       "      <td>0.000000</td>\n",
       "      <td>0.000000</td>\n",
       "      <td>0.000000</td>\n",
       "      <td>0.000000</td>\n",
       "      <td>1.000000</td>\n",
       "    </tr>\n",
       "  </tbody>\n",
       "</table>\n",
       "</div>"
      ],
      "text/plain": [
       "                                    count       mean        std       min  \\\n",
       "distance_from_home              1000000.0  26.628792  65.390784  0.004874   \n",
       "distance_from_last_transaction  1000000.0   5.036519  25.843093  0.000118   \n",
       "ratio_to_median_purchase_price  1000000.0   1.824182   2.799589  0.004399   \n",
       "repeat_retailer                 1000000.0   0.881536   0.323157  0.000000   \n",
       "used_chip                       1000000.0   0.350399   0.477095  0.000000   \n",
       "used_pin_number                 1000000.0   0.100608   0.300809  0.000000   \n",
       "online_order                    1000000.0   0.650552   0.476796  0.000000   \n",
       "fraud                           1000000.0   0.087403   0.282425  0.000000   \n",
       "\n",
       "                                     25%       50%        75%           max  \n",
       "distance_from_home              3.878008  9.967760  25.743985  10632.723672  \n",
       "distance_from_last_transaction  0.296671  0.998650   3.355748  11851.104565  \n",
       "ratio_to_median_purchase_price  0.475673  0.997717   2.096370    267.802942  \n",
       "repeat_retailer                 1.000000  1.000000   1.000000      1.000000  \n",
       "used_chip                       0.000000  0.000000   1.000000      1.000000  \n",
       "used_pin_number                 0.000000  0.000000   0.000000      1.000000  \n",
       "online_order                    0.000000  1.000000   1.000000      1.000000  \n",
       "fraud                           0.000000  0.000000   0.000000      1.000000  "
      ]
     },
     "execution_count": 114,
     "metadata": {},
     "output_type": "execute_result"
    }
   ],
   "source": [
    "df.describe().T #donne les statistiques élémentaires des variables"
   ]
  },
  {
   "cell_type": "markdown",
   "id": "962584e5",
   "metadata": {},
   "source": [
    "### Traitement des valeurs manquantes"
   ]
  },
  {
   "cell_type": "code",
   "execution_count": 67,
   "id": "b513c7c7",
   "metadata": {},
   "outputs": [
    {
     "data": {
      "text/html": [
       "<div>\n",
       "<style scoped>\n",
       "    .dataframe tbody tr th:only-of-type {\n",
       "        vertical-align: middle;\n",
       "    }\n",
       "\n",
       "    .dataframe tbody tr th {\n",
       "        vertical-align: top;\n",
       "    }\n",
       "\n",
       "    .dataframe thead th {\n",
       "        text-align: right;\n",
       "    }\n",
       "</style>\n",
       "<table border=\"1\" class=\"dataframe\">\n",
       "  <thead>\n",
       "    <tr style=\"text-align: right;\">\n",
       "      <th></th>\n",
       "      <th>distance_from_home</th>\n",
       "      <th>distance_from_last_transaction</th>\n",
       "      <th>ratio_to_median_purchase_price</th>\n",
       "      <th>repeat_retailer</th>\n",
       "      <th>used_chip</th>\n",
       "      <th>used_pin_number</th>\n",
       "      <th>online_order</th>\n",
       "      <th>fraud</th>\n",
       "    </tr>\n",
       "  </thead>\n",
       "  <tbody>\n",
       "    <tr>\n",
       "      <th>0</th>\n",
       "      <td>False</td>\n",
       "      <td>False</td>\n",
       "      <td>False</td>\n",
       "      <td>False</td>\n",
       "      <td>False</td>\n",
       "      <td>False</td>\n",
       "      <td>False</td>\n",
       "      <td>False</td>\n",
       "    </tr>\n",
       "    <tr>\n",
       "      <th>1</th>\n",
       "      <td>False</td>\n",
       "      <td>False</td>\n",
       "      <td>False</td>\n",
       "      <td>False</td>\n",
       "      <td>False</td>\n",
       "      <td>False</td>\n",
       "      <td>False</td>\n",
       "      <td>False</td>\n",
       "    </tr>\n",
       "    <tr>\n",
       "      <th>2</th>\n",
       "      <td>False</td>\n",
       "      <td>False</td>\n",
       "      <td>False</td>\n",
       "      <td>False</td>\n",
       "      <td>False</td>\n",
       "      <td>False</td>\n",
       "      <td>False</td>\n",
       "      <td>False</td>\n",
       "    </tr>\n",
       "    <tr>\n",
       "      <th>3</th>\n",
       "      <td>False</td>\n",
       "      <td>False</td>\n",
       "      <td>False</td>\n",
       "      <td>False</td>\n",
       "      <td>False</td>\n",
       "      <td>False</td>\n",
       "      <td>False</td>\n",
       "      <td>False</td>\n",
       "    </tr>\n",
       "    <tr>\n",
       "      <th>4</th>\n",
       "      <td>False</td>\n",
       "      <td>False</td>\n",
       "      <td>False</td>\n",
       "      <td>False</td>\n",
       "      <td>False</td>\n",
       "      <td>False</td>\n",
       "      <td>False</td>\n",
       "      <td>False</td>\n",
       "    </tr>\n",
       "    <tr>\n",
       "      <th>...</th>\n",
       "      <td>...</td>\n",
       "      <td>...</td>\n",
       "      <td>...</td>\n",
       "      <td>...</td>\n",
       "      <td>...</td>\n",
       "      <td>...</td>\n",
       "      <td>...</td>\n",
       "      <td>...</td>\n",
       "    </tr>\n",
       "    <tr>\n",
       "      <th>999995</th>\n",
       "      <td>False</td>\n",
       "      <td>False</td>\n",
       "      <td>False</td>\n",
       "      <td>False</td>\n",
       "      <td>False</td>\n",
       "      <td>False</td>\n",
       "      <td>False</td>\n",
       "      <td>False</td>\n",
       "    </tr>\n",
       "    <tr>\n",
       "      <th>999996</th>\n",
       "      <td>False</td>\n",
       "      <td>False</td>\n",
       "      <td>False</td>\n",
       "      <td>False</td>\n",
       "      <td>False</td>\n",
       "      <td>False</td>\n",
       "      <td>False</td>\n",
       "      <td>False</td>\n",
       "    </tr>\n",
       "    <tr>\n",
       "      <th>999997</th>\n",
       "      <td>False</td>\n",
       "      <td>False</td>\n",
       "      <td>False</td>\n",
       "      <td>False</td>\n",
       "      <td>False</td>\n",
       "      <td>False</td>\n",
       "      <td>False</td>\n",
       "      <td>False</td>\n",
       "    </tr>\n",
       "    <tr>\n",
       "      <th>999998</th>\n",
       "      <td>False</td>\n",
       "      <td>False</td>\n",
       "      <td>False</td>\n",
       "      <td>False</td>\n",
       "      <td>False</td>\n",
       "      <td>False</td>\n",
       "      <td>False</td>\n",
       "      <td>False</td>\n",
       "    </tr>\n",
       "    <tr>\n",
       "      <th>999999</th>\n",
       "      <td>False</td>\n",
       "      <td>False</td>\n",
       "      <td>False</td>\n",
       "      <td>False</td>\n",
       "      <td>False</td>\n",
       "      <td>False</td>\n",
       "      <td>False</td>\n",
       "      <td>False</td>\n",
       "    </tr>\n",
       "  </tbody>\n",
       "</table>\n",
       "<p>1000000 rows × 8 columns</p>\n",
       "</div>"
      ],
      "text/plain": [
       "        distance_from_home  distance_from_last_transaction  \\\n",
       "0                    False                           False   \n",
       "1                    False                           False   \n",
       "2                    False                           False   \n",
       "3                    False                           False   \n",
       "4                    False                           False   \n",
       "...                    ...                             ...   \n",
       "999995               False                           False   \n",
       "999996               False                           False   \n",
       "999997               False                           False   \n",
       "999998               False                           False   \n",
       "999999               False                           False   \n",
       "\n",
       "        ratio_to_median_purchase_price  repeat_retailer  used_chip  \\\n",
       "0                                False            False      False   \n",
       "1                                False            False      False   \n",
       "2                                False            False      False   \n",
       "3                                False            False      False   \n",
       "4                                False            False      False   \n",
       "...                                ...              ...        ...   \n",
       "999995                           False            False      False   \n",
       "999996                           False            False      False   \n",
       "999997                           False            False      False   \n",
       "999998                           False            False      False   \n",
       "999999                           False            False      False   \n",
       "\n",
       "        used_pin_number  online_order  fraud  \n",
       "0                 False         False  False  \n",
       "1                 False         False  False  \n",
       "2                 False         False  False  \n",
       "3                 False         False  False  \n",
       "4                 False         False  False  \n",
       "...                 ...           ...    ...  \n",
       "999995            False         False  False  \n",
       "999996            False         False  False  \n",
       "999997            False         False  False  \n",
       "999998            False         False  False  \n",
       "999999            False         False  False  \n",
       "\n",
       "[1000000 rows x 8 columns]"
      ]
     },
     "execution_count": 67,
     "metadata": {},
     "output_type": "execute_result"
    }
   ],
   "source": [
    "df.isnull() #pour détecter les valeurs manquantes ('True' = valeur manquante détectée)"
   ]
  },
  {
   "cell_type": "code",
   "execution_count": 71,
   "id": "17970e30",
   "metadata": {},
   "outputs": [
    {
     "data": {
      "text/plain": [
       "distance_from_home                0\n",
       "distance_from_last_transaction    0\n",
       "ratio_to_median_purchase_price    0\n",
       "repeat_retailer                   0\n",
       "used_chip                         0\n",
       "used_pin_number                   0\n",
       "online_order                      0\n",
       "fraud                             0\n",
       "dtype: int64"
      ]
     },
     "execution_count": 71,
     "metadata": {},
     "output_type": "execute_result"
    }
   ],
   "source": [
    "df.isnull().sum() #affiche la somme des valeurs manquantes par variable\n",
    "#aucune valeur manquante dans notre base de données"
   ]
  },
  {
   "cell_type": "markdown",
   "id": "458f3376",
   "metadata": {},
   "source": [
    "### Détection des valeurs aberrantes (Outliers)"
   ]
  },
  {
   "cell_type": "markdown",
   "id": "2b80f60a",
   "metadata": {},
   "source": [
    "Avec la boîte à moustache :"
   ]
  },
  {
   "cell_type": "code",
   "execution_count": 129,
   "id": "cb2e239d",
   "metadata": {},
   "outputs": [
    {
     "data": {
      "text/plain": [
       "Text(0.5, 1.0, 'BoxPlot de la variable')"
      ]
     },
     "execution_count": 129,
     "metadata": {},
     "output_type": "execute_result"
    },
    {
     "data": {
      "image/png": "[encoded data removed]",
      "text/plain": [
       "<Figure size 432x288 with 1 Axes>"
      ]
     },
     "metadata": {
      "needs_background": "light"
     },
     "output_type": "display_data"
    }
   ],
   "source": [
    "#On affiche le boxplot associé à la variable\n",
    "sns.boxplot(df['distance_from_last_transaction'])\n",
    "plt.title(\"BoxPlot de la variable\")\n",
    "\n",
    "#Il y a bien des valeurs aberrantes pour cette variable."
   ]
  },
  {
   "cell_type": "code",
   "execution_count": 84,
   "id": "387e064d",
   "metadata": {},
   "outputs": [
    {
     "data": {
      "image/png": "[encoded data removed]",
      "text/plain": [
       "<Figure size 1440x360 with 1 Axes>"
      ]
     },
     "metadata": {
      "needs_background": "light"
     },
     "output_type": "display_data"
    }
   ],
   "source": [
    "plt.figure(figsize = (20,5))\n",
    "plt.title(\"BoxPlot\")\n",
    "\n",
    "df.describe()\n",
    "\n",
    "df_1 = df[['distance_from_home']]\n",
    "\n",
    "ax = sns.boxplot(data=df_1, orient=\"h\", palette=\"Set2\")"
   ]
  },
  {
   "cell_type": "code",
   "execution_count": 130,
   "id": "86bf078d",
   "metadata": {},
   "outputs": [
    {
     "data": {
      "image/png": "[encoded data removed]",
      "text/plain": [
       "<Figure size 1440x360 with 1 Axes>"
      ]
     },
     "metadata": {
      "needs_background": "light"
     },
     "output_type": "display_data"
    }
   ],
   "source": [
    "plt.figure(figsize = (20,5))\n",
    "plt.title(\"BoxPlot\")\n",
    "\n",
    "df.describe()\n",
    "\n",
    "df_1 = df[['ratio_to_median_purchase_price']]\n",
    "\n",
    "ax = sns.boxplot(data=df_1, orient=\"h\", palette=\"Set2\")"
   ]
  },
  {
   "cell_type": "markdown",
   "id": "3f036af9",
   "metadata": {},
   "source": [
    "### Feature Scaling"
   ]
  },
  {
   "cell_type": "code",
   "execution_count": 15,
   "id": "2f31a4c1",
   "metadata": {},
   "outputs": [],
   "source": [
    "from sklearn.preprocessing import StandardScaler #On importe la fonction StandardScaler() de la librairie scikit learn"
   ]
  },
  {
   "cell_type": "code",
   "execution_count": 49,
   "id": "b402e3c4",
   "metadata": {},
   "outputs": [],
   "source": [
    "#pour mettre les données à la même échelle\n",
    "scaler = StandardScaler()\n",
    "scaler.fit(df[['distance_from_home', 'distance_from_last_transaction','ratio_to_median_purchase_price']])\n",
    "df[['distance_from_home', 'distance_from_last_transaction','ratio_to_median_purchase_price']] = scaler.transform(df[['distance_from_home', 'distance_from_last_transaction',\n",
    "       'ratio_to_median_purchase_price']].values)"
   ]
  },
  {
   "cell_type": "code",
   "execution_count": 53,
   "id": "bd96d7c5",
   "metadata": {},
   "outputs": [
    {
     "data": {
      "text/html": [
       "<div>\n",
       "<style scoped>\n",
       "    .dataframe tbody tr th:only-of-type {\n",
       "        vertical-align: middle;\n",
       "    }\n",
       "\n",
       "    .dataframe tbody tr th {\n",
       "        vertical-align: top;\n",
       "    }\n",
       "\n",
       "    .dataframe thead th {\n",
       "        text-align: right;\n",
       "    }\n",
       "</style>\n",
       "<table border=\"1\" class=\"dataframe\">\n",
       "  <thead>\n",
       "    <tr style=\"text-align: right;\">\n",
       "      <th></th>\n",
       "      <th>distance_from_home</th>\n",
       "      <th>distance_from_last_transaction</th>\n",
       "      <th>ratio_to_median_purchase_price</th>\n",
       "      <th>repeat_retailer</th>\n",
       "      <th>used_chip</th>\n",
       "      <th>used_pin_number</th>\n",
       "      <th>online_order</th>\n",
       "      <th>fraud</th>\n",
       "    </tr>\n",
       "  </thead>\n",
       "  <tbody>\n",
       "    <tr>\n",
       "      <th>0</th>\n",
       "      <td>0.477882</td>\n",
       "      <td>-0.182849</td>\n",
       "      <td>0.043491</td>\n",
       "      <td>1.0</td>\n",
       "      <td>1.0</td>\n",
       "      <td>0.0</td>\n",
       "      <td>0.0</td>\n",
       "      <td>0.0</td>\n",
       "    </tr>\n",
       "    <tr>\n",
       "      <th>1</th>\n",
       "      <td>-0.241607</td>\n",
       "      <td>-0.188094</td>\n",
       "      <td>-0.189300</td>\n",
       "      <td>1.0</td>\n",
       "      <td>0.0</td>\n",
       "      <td>0.0</td>\n",
       "      <td>0.0</td>\n",
       "      <td>0.0</td>\n",
       "    </tr>\n",
       "    <tr>\n",
       "      <th>2</th>\n",
       "      <td>-0.329369</td>\n",
       "      <td>-0.163733</td>\n",
       "      <td>-0.498812</td>\n",
       "      <td>1.0</td>\n",
       "      <td>0.0</td>\n",
       "      <td>0.0</td>\n",
       "      <td>1.0</td>\n",
       "      <td>0.0</td>\n",
       "    </tr>\n",
       "    <tr>\n",
       "      <th>3</th>\n",
       "      <td>-0.372854</td>\n",
       "      <td>0.021806</td>\n",
       "      <td>-0.522048</td>\n",
       "      <td>1.0</td>\n",
       "      <td>1.0</td>\n",
       "      <td>0.0</td>\n",
       "      <td>1.0</td>\n",
       "      <td>0.0</td>\n",
       "    </tr>\n",
       "  </tbody>\n",
       "</table>\n",
       "</div>"
      ],
      "text/plain": [
       "   distance_from_home  distance_from_last_transaction  \\\n",
       "0            0.477882                       -0.182849   \n",
       "1           -0.241607                       -0.188094   \n",
       "2           -0.329369                       -0.163733   \n",
       "3           -0.372854                        0.021806   \n",
       "\n",
       "   ratio_to_median_purchase_price  repeat_retailer  used_chip  \\\n",
       "0                        0.043491              1.0        1.0   \n",
       "1                       -0.189300              1.0        0.0   \n",
       "2                       -0.498812              1.0        0.0   \n",
       "3                       -0.522048              1.0        1.0   \n",
       "\n",
       "   used_pin_number  online_order  fraud  \n",
       "0              0.0           0.0    0.0  \n",
       "1              0.0           0.0    0.0  \n",
       "2              0.0           1.0    0.0  \n",
       "3              0.0           1.0    0.0  "
      ]
     },
     "execution_count": 53,
     "metadata": {},
     "output_type": "execute_result"
    }
   ],
   "source": [
    "df.head(4)"
   ]
  },
  {
   "cell_type": "markdown",
   "id": "3dea8f34",
   "metadata": {},
   "source": [
    "### Features Selection"
   ]
  },
  {
   "cell_type": "markdown",
   "id": "24a26220",
   "metadata": {},
   "source": [
    "Nous sélectionnons les variables avec une corrélation positive ( > 0.1):"
   ]
  },
  {
   "cell_type": "code",
   "execution_count": 43,
   "id": "99cccdc6",
   "metadata": {},
   "outputs": [
    {
     "data": {
      "text/plain": [
       "<AxesSubplot:title={'center':'Matrice des corrélations'}>"
      ]
     },
     "execution_count": 43,
     "metadata": {},
     "output_type": "execute_result"
    },
    {
     "data": {
      "image/png": "[encoded data removed]",
      "text/plain": [
       "<Figure size 1080x1080 with 2 Axes>"
      ]
     },
     "metadata": {
      "needs_background": "light"
     },
     "output_type": "display_data"
    }
   ],
   "source": [
    "# Matrice des corrélations :\n",
    "\n",
    "plt.subplots( figsize =( 15, 15 ) ) #configuration de la taille du graphique\n",
    "plt.title(\"Matrice des corrélations\")\n",
    "\n",
    "cor = df.corr(method='pearson')\n",
    "sns.heatmap(cor, square = True, cmap=\"coolwarm\",linewidths=0.5,annot=True ) #paramètres graphiques"
   ]
  },
  {
   "cell_type": "markdown",
   "id": "a61528e4",
   "metadata": {},
   "source": [
    "## Modélisation"
   ]
  },
  {
   "cell_type": "markdown",
   "id": "00bd03c4",
   "metadata": {},
   "source": [
    "#### Split du dataset en train et test"
   ]
  },
  {
   "cell_type": "code",
   "execution_count": 44,
   "id": "ea1c05d5",
   "metadata": {},
   "outputs": [],
   "source": [
    "#Nous incluons dans la variable 'x' les variables explicatives du dataFrame.\n",
    "\n",
    "x = df[['distance_from_home', 'ratio_to_median_purchase_price', 'online_order']]\n",
    "y = df['fraud'] # la variable cible\n"
   ]
  },
  {
   "cell_type": "code",
   "execution_count": 45,
   "id": "9fa3ab7a",
   "metadata": {},
   "outputs": [],
   "source": [
    "x_train,x_test, y_train, y_test = train_test_split(x,y, test_size =0.25)"
   ]
  },
  {
   "cell_type": "markdown",
   "id": "32a51aed",
   "metadata": {},
   "source": [
    "## Apprentissage"
   ]
  },
  {
   "cell_type": "markdown",
   "id": "70226e43",
   "metadata": {},
   "source": [
    "### Régression logistique :\n",
    "On choisit de faire l'apprentissage sur un échantillon d'apprentissage de 75% des données et de faire le test sur 25% des données."
   ]
  },
  {
   "cell_type": "code",
   "execution_count": 126,
   "id": "8315bb8e",
   "metadata": {},
   "outputs": [
    {
     "name": "stdout",
     "output_type": "stream",
     "text": [
      "Accuracy=0.94\n"
     ]
    }
   ],
   "source": [
    "from sklearn.linear_model import LogisticRegression\n",
    "from sklearn import metrics #le module scikit-learn metrics pour le calcul de l'accuracy.\n",
    "\n",
    "x_train,x_test,y_train,y_test=train_test_split(x,y,test_size=0.25,random_state=40)\n",
    "\n",
    "logreg = LogisticRegression()\n",
    "logreg.fit(x_train, y_train)\n",
    "y_pred  = logreg.predict(x_test)\n",
    "print(\"Accuracy={:.2f}\".format(logreg.score(x_test, y_test)))"
   ]
  },
  {
   "cell_type": "code",
   "execution_count": 127,
   "id": "7cc37703",
   "metadata": {},
   "outputs": [
    {
     "data": {
      "text/html": [
       "<div>\n",
       "<style scoped>\n",
       "    .dataframe tbody tr th:only-of-type {\n",
       "        vertical-align: middle;\n",
       "    }\n",
       "\n",
       "    .dataframe tbody tr th {\n",
       "        vertical-align: top;\n",
       "    }\n",
       "\n",
       "    .dataframe thead th {\n",
       "        text-align: right;\n",
       "    }\n",
       "</style>\n",
       "<table border=\"1\" class=\"dataframe\">\n",
       "  <thead>\n",
       "    <tr style=\"text-align: right;\">\n",
       "      <th>Predicted</th>\n",
       "      <th>0.0</th>\n",
       "      <th>1.0</th>\n",
       "    </tr>\n",
       "    <tr>\n",
       "      <th>Actual</th>\n",
       "      <th></th>\n",
       "      <th></th>\n",
       "    </tr>\n",
       "  </thead>\n",
       "  <tbody>\n",
       "    <tr>\n",
       "      <th>0.0</th>\n",
       "      <td>225860</td>\n",
       "      <td>2312</td>\n",
       "    </tr>\n",
       "    <tr>\n",
       "      <th>1.0</th>\n",
       "      <td>12017</td>\n",
       "      <td>9811</td>\n",
       "    </tr>\n",
       "  </tbody>\n",
       "</table>\n",
       "</div>"
      ],
      "text/plain": [
       "Predicted     0.0   1.0\n",
       "Actual                 \n",
       "0.0        225860  2312\n",
       "1.0         12017  9811"
      ]
     },
     "execution_count": 127,
     "metadata": {},
     "output_type": "execute_result"
    }
   ],
   "source": [
    "# Confusion Matrix ( 1= fraude , 0 = pas fraude)\n",
    "confusion_matrix=pd.crosstab(y_test,y_pred,rownames=['Actual'],colnames=['Predicted'])\n",
    "confusion_matrix"
   ]
  },
  {
   "cell_type": "markdown",
   "id": "1abdd399",
   "metadata": {},
   "source": [
    "### Decision Tree Classifier"
   ]
  },
  {
   "cell_type": "code",
   "execution_count": 10,
   "id": "886188a0",
   "metadata": {},
   "outputs": [],
   "source": [
    "from sklearn.tree import DecisionTreeClassifier # Importation du Decision Tree Classifier\n",
    "\n",
    "clf = DecisionTreeClassifier()\n",
    "\n",
    "clf = clf.fit(x_train,y_train)\n",
    "\n",
    "y_pred = clf.predict(x_test)"
   ]
  },
  {
   "cell_type": "code",
   "execution_count": 11,
   "id": "1ad3c0fe",
   "metadata": {},
   "outputs": [
    {
     "name": "stdout",
     "output_type": "stream",
     "text": [
      "Accuracy: 0.960352\n"
     ]
    }
   ],
   "source": [
    "print(\"Accuracy:\",metrics.accuracy_score(y_test, y_pred))"
   ]
  },
  {
   "cell_type": "markdown",
   "id": "10bab896",
   "metadata": {},
   "source": [
    "### Random Forest :"
   ]
  },
  {
   "cell_type": "code",
   "execution_count": 26,
   "id": "55973f05",
   "metadata": {},
   "outputs": [
    {
     "data": {
      "text/plain": [
       "RandomForestRegressor(n_estimators=10, random_state=40)"
      ]
     },
     "execution_count": 26,
     "metadata": {},
     "output_type": "execute_result"
    }
   ],
   "source": [
    "#On importe l'algorithme à partir de sklearn\n",
    "from sklearn.ensemble import RandomForestRegressor\n",
    "\n",
    "#On crée un Random Forest de 10 arbres \n",
    "rf = RandomForestRegressor(n_estimators = 10, random_state = 40)\n",
    "\n",
    "#Et on lance le training sur notre dataset de train\n",
    "rf.fit(x_train, y_train)"
   ]
  },
  {
   "cell_type": "code",
   "execution_count": 27,
   "id": "bc86b3a6",
   "metadata": {},
   "outputs": [],
   "source": [
    "#On applique le modèle que l'on vient d'entraîner sur l'échantillon de test\n",
    "predictions = rf.predict(x_test).round()"
   ]
  },
  {
   "cell_type": "code",
   "execution_count": 28,
   "id": "d6f8236d",
   "metadata": {},
   "outputs": [
    {
     "data": {
      "text/plain": [
       "0.968896"
      ]
     },
     "execution_count": 28,
     "metadata": {},
     "output_type": "execute_result"
    }
   ],
   "source": [
    "#On fait apparaître l'accuracy score\n",
    "from sklearn.metrics import confusion_matrix, f1_score, accuracy_score\n",
    "accuracy_score(y_test, predictions)"
   ]
  },
  {
   "cell_type": "markdown",
   "id": "9fdbd4ec",
   "metadata": {},
   "source": [
    "On calcule les variables d'importance du modèle, c'est à dire celles qui contribuent le plus :"
   ]
  },
  {
   "cell_type": "code",
   "execution_count": 30,
   "id": "104c08e4",
   "metadata": {},
   "outputs": [
    {
     "data": {
      "text/html": [
       "<div>\n",
       "<style scoped>\n",
       "    .dataframe tbody tr th:only-of-type {\n",
       "        vertical-align: middle;\n",
       "    }\n",
       "\n",
       "    .dataframe tbody tr th {\n",
       "        vertical-align: top;\n",
       "    }\n",
       "\n",
       "    .dataframe thead th {\n",
       "        text-align: right;\n",
       "    }\n",
       "</style>\n",
       "<table border=\"1\" class=\"dataframe\">\n",
       "  <thead>\n",
       "    <tr style=\"text-align: right;\">\n",
       "      <th></th>\n",
       "      <th>Importance</th>\n",
       "    </tr>\n",
       "  </thead>\n",
       "  <tbody>\n",
       "    <tr>\n",
       "      <th>ratio_to_median_purchase_price</th>\n",
       "      <td>0.548138</td>\n",
       "    </tr>\n",
       "    <tr>\n",
       "      <th>distance_from_home</th>\n",
       "      <td>0.231010</td>\n",
       "    </tr>\n",
       "    <tr>\n",
       "      <th>online_order</th>\n",
       "      <td>0.220852</td>\n",
       "    </tr>\n",
       "  </tbody>\n",
       "</table>\n",
       "</div>"
      ],
      "text/plain": [
       "                                Importance\n",
       "ratio_to_median_purchase_price    0.548138\n",
       "distance_from_home                0.231010\n",
       "online_order                      0.220852"
      ]
     },
     "execution_count": 30,
     "metadata": {},
     "output_type": "execute_result"
    }
   ],
   "source": [
    "#Ici, on affiche l’importance des variables de notre modèle de forêt aléatoire :\n",
    "pd.DataFrame(rf.feature_importances_, index = x_train.columns, columns = \n",
    "             [\"Importance\"]).sort_values(\"Importance\", ascending = False)"
   ]
  },
  {
   "cell_type": "markdown",
   "id": "22708d42",
   "metadata": {},
   "source": [
    "### Rotation Forest :"
   ]
  },
  {
   "cell_type": "code",
   "execution_count": 31,
   "id": "314230df",
   "metadata": {},
   "outputs": [],
   "source": [
    "from rotation_forest import RotationForestClassifier\n",
    "from sklearn.metrics import confusion_matrix"
   ]
  },
  {
   "cell_type": "code",
   "execution_count": 32,
   "id": "2351879b",
   "metadata": {},
   "outputs": [],
   "source": [
    "model = RotationForestClassifier()\n",
    "model.fit(x_train, y_train)\n",
    "y_pred = model.predict(x_test)\n",
    "a = confusion_matrix(y_pred, y_test)"
   ]
  },
  {
   "cell_type": "code",
   "execution_count": 33,
   "id": "67477462",
   "metadata": {},
   "outputs": [
    {
     "name": "stdout",
     "output_type": "stream",
     "text": [
      "Accuracy: 0.959992\n"
     ]
    }
   ],
   "source": [
    "print(\"Accuracy:\",metrics.accuracy_score(y_test, y_pred))"
   ]
  },
  {
   "cell_type": "markdown",
   "id": "58cb2e76",
   "metadata": {},
   "source": [
    "### Conclusion"
   ]
  },
  {
   "cell_type": "code",
   "execution_count": 34,
   "id": "c9ef3cc5",
   "metadata": {},
   "outputs": [
    {
     "data": {
      "text/plain": [
       "<BarContainer object of 4 artists>"
      ]
     },
     "execution_count": 34,
     "metadata": {},
     "output_type": "execute_result"
    },
    {
     "data": {
      "image/png": "[encoded data removed]",
      "text/plain": [
       "<Figure size 720x504 with 1 Axes>"
      ]
     },
     "metadata": {
      "needs_background": "light"
     },
     "output_type": "display_data"
    }
   ],
   "source": [
    "accuracies = [0.959992,0.960352,0.968896,0.94]\n",
    "\n",
    "models=['Rotation Forest','Decision Tree Classifier','RANDOM FOREST','REGRESSION LOGISTIQUE']\n",
    "\n",
    "plt.figure(figsize = (10,7))\n",
    "plt.subplot(1,1,1)\n",
    "plt.title('Accuracy')\n",
    "plt.bar(models,accuracies)"
   ]
  }
 ],
 "metadata": {
  "kernelspec": {
   "display_name": "Python 3",
   "language": "python",
   "name": "python3"
  },
  "language_info": {
   "codemirror_mode": {
    "name": "ipython",
    "version": 3
   },
   "file_extension": ".py",
   "mimetype": "text/x-python",
   "name": "python",
   "nbconvert_exporter": "python",
   "pygments_lexer": "ipython3",
   "version": "3.8.8"
  }
 },
 "nbformat": 4,
 "nbformat_minor": 5
}
